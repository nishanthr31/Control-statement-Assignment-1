{
 "cells": [
  {
   "cell_type": "code",
   "execution_count": 1,
   "id": "68b2d247",
   "metadata": {},
   "outputs": [
    {
     "name": "stdout",
     "output_type": "stream",
     "text": [
      "HOPE AI\n"
     ]
    }
   ],
   "source": [
    "#print Statement\n",
    "\n",
    "print(\"HOPE AI\")"
   ]
  },
  {
   "cell_type": "code",
   "execution_count": 12,
   "id": "6f05ff25",
   "metadata": {
    "scrolled": true
   },
   "outputs": [
    {
     "name": "stdout",
     "output_type": "stream",
     "text": [
      "Enter your institute name? :HOPE AI\n"
     ]
    }
   ],
   "source": [
    " # Buy input\n",
    "\n",
    "Ins = input(\"Enter your institute name? :\" )"
   ]
  },
  {
   "cell_type": "code",
   "execution_count": 15,
   "id": "749ab8bc",
   "metadata": {
    "scrolled": true
   },
   "outputs": [
    {
     "name": "stdout",
     "output_type": "stream",
     "text": [
      "Enter your name:Gokul\n",
      "Enter your age: 15\n",
      "Enter your school name: Guru school\n",
      "Enter your degree: B.E.CSE\n"
     ]
    }
   ],
   "source": [
    "#Buy inputs\n",
    "\n",
    "A = input(\"Enter your name:\")\n",
    "B = input(\"Enter your age: \")\n",
    "C = input(\"Enter your school name: \")\n",
    "D = input(\"Enter your degree: \")"
   ]
  },
  {
   "cell_type": "code",
   "execution_count": 17,
   "id": "f0bc588b",
   "metadata": {},
   "outputs": [
    {
     "name": "stdout",
     "output_type": "stream",
     "text": [
      "a =87\n",
      "b =67\n",
      "Add =  154\n"
     ]
    }
   ],
   "source": [
    "#Addition\n",
    "\n",
    "a = int(input(\"a =\"))\n",
    "b = int(input(\"b =\"))\n",
    "print(\"Add = \",a+b)"
   ]
  },
  {
   "cell_type": "code",
   "execution_count": 18,
   "id": "72c25ca3",
   "metadata": {},
   "outputs": [
    {
     "name": "stdout",
     "output_type": "stream",
     "text": [
      "a =56\n",
      "b =28\n",
      "Sub = 28\n"
     ]
    }
   ],
   "source": [
    "#Subtraction\n",
    "\n",
    "print(\"Sub =\",int(input(\"a =\"))-int(input(\"b =\")))"
   ]
  },
  {
   "cell_type": "code",
   "execution_count": 24,
   "id": "5b31c7fd",
   "metadata": {},
   "outputs": [
    {
     "name": "stdout",
     "output_type": "stream",
     "text": [
      "a =87\n",
      "b =90\n",
      "Mul = 7830\n"
     ]
    }
   ],
   "source": [
    "#Multiplication\n",
    "\n",
    "print(\"Mul =\",int(input(\"a =\"))*int(input(\"b =\")))"
   ]
  },
  {
   "cell_type": "code",
   "execution_count": 27,
   "id": "4fd2a33a",
   "metadata": {},
   "outputs": [
    {
     "name": "stdout",
     "output_type": "stream",
     "text": [
      "a =67\n",
      "b =23\n",
      "Add =  2.9130434782608696\n"
     ]
    }
   ],
   "source": [
    "#Division\n",
    "\n",
    "a = int(input(\"a =\"))\n",
    "b = int(input(\"b =\"))\n",
    "c=a/b\n",
    "print(\"Add = \",c)"
   ]
  },
  {
   "cell_type": "code",
   "execution_count": 29,
   "id": "ab50a05e",
   "metadata": {},
   "outputs": [
    {
     "name": "stdout",
     "output_type": "stream",
     "text": [
      "a =45\n",
      "b =23\n",
      "Add =  1\n"
     ]
    }
   ],
   "source": [
    "#floor division\n",
    "\n",
    "a = int(input(\"a =\"))\n",
    "b = int(input(\"b =\"))\n",
    "c=a//b\n",
    "print(\"Add = \",c)"
   ]
  },
  {
   "cell_type": "code",
   "execution_count": 30,
   "id": "a4942cd1",
   "metadata": {},
   "outputs": [
    {
     "name": "stdout",
     "output_type": "stream",
     "text": [
      "a =67\n",
      "b =23\n",
      "Add =  21\n"
     ]
    }
   ],
   "source": [
    "#Modulo\n",
    "\n",
    "a = int(input(\"a =\"))\n",
    "b = int(input(\"b =\"))\n",
    "c=a%b\n",
    "print(\"Add = \",c)"
   ]
  },
  {
   "cell_type": "code",
   "execution_count": 32,
   "id": "39fa9d82",
   "metadata": {},
   "outputs": [
    {
     "name": "stdout",
     "output_type": "stream",
     "text": [
      "a =4\n",
      "b =4\n",
      "Add =  0\n"
     ]
    }
   ],
   "source": [
    "#Power\n",
    "\n",
    "a = int(input(\"a =\"))\n",
    "b = int(input(\"b =\"))\n",
    "c=a^b\n",
    "print(\"Add = \",c)"
   ]
  },
  {
   "cell_type": "code",
   "execution_count": null,
   "id": "8eb22066",
   "metadata": {},
   "outputs": [],
   "source": []
  }
 ],
 "metadata": {
  "kernelspec": {
   "display_name": "Python 3 (ipykernel)",
   "language": "python",
   "name": "python3"
  },
  "language_info": {
   "codemirror_mode": {
    "name": "ipython",
    "version": 3
   },
   "file_extension": ".py",
   "mimetype": "text/x-python",
   "name": "python",
   "nbconvert_exporter": "python",
   "pygments_lexer": "ipython3",
   "version": "3.11.5"
  }
 },
 "nbformat": 4,
 "nbformat_minor": 5
}
