{
 "cells": [
  {
   "cell_type": "code",
   "execution_count": 1,
   "id": "f16ad20d",
   "metadata": {},
   "outputs": [],
   "source": [
    "#Create Subfields()\n",
    "def Subfields():\n",
    "    List = [\"Machine Learning\",\"Neural Networks\",\"Vision\",\"Robotics\",\"Speech Processing\",\"Natural Language Processing\"]\n",
    "    for Lst in List:\n",
    "        print(Lst)"
   ]
  },
  {
   "cell_type": "code",
   "execution_count": 3,
   "id": "a6a2b6cd",
   "metadata": {},
   "outputs": [
    {
     "name": "stdout",
     "output_type": "stream",
     "text": [
      "Machine Learning\n",
      "Neural Networks\n",
      "Vision\n",
      "Robotics\n",
      "Speech Processing\n",
      "Natural Language Processing\n"
     ]
    }
   ],
   "source": [
    "Subfields()"
   ]
  },
  {
   "cell_type": "code",
   "execution_count": 13,
   "id": "a9c1e0fc",
   "metadata": {},
   "outputs": [
    {
     "name": "stdout",
     "output_type": "stream",
     "text": [
      "Enter the number :23456\n",
      "Even number\n",
      "Remainder is 0\n"
     ]
    }
   ],
   "source": [
    "# Create a function that checks whether the given number is Odd or Even\n",
    "def OddEven():\n",
    "    Num = int(input(\"Enter the number :\"))\n",
    "    if(Num%2==0):\n",
    "        print(\"Even number\")\n",
    "        Number = \"Even number\"\n",
    "    else:\n",
    "        print(\"Odd number\")\n",
    "        Number = \"Odd number\"\n",
    "    return Number\n",
    "odev= OddEven()\n",
    "#taking input from above function\n",
    "if(odev == \"Odd number\"):\n",
    "    print(\"Remainder is 1\")\n",
    "else:\n",
    "    print(\"Remainder is 0\")\n"
   ]
  },
  {
   "cell_type": "code",
   "execution_count": 19,
   "id": "183eb9d5",
   "metadata": {},
   "outputs": [
    {
     "name": "stdout",
     "output_type": "stream",
     "text": [
      "Not Male eligible for marriage\n",
      "female eligible for marriage\n",
      "None\n"
     ]
    }
   ],
   "source": [
    "# Create a function that tells elegibility of marriage for male and female according to their age limit like 21 for male and 18 for female\n",
    "\n",
    "def Eligible(MaleAge,FemaleAge):\n",
    "    if(MaleAge>=21):\n",
    "        print(\"Male eligible for marriage\")\n",
    "    else:\n",
    "        print(\"Not Male eligible for marriage\")\n",
    "    if(FemaleAge>=18):\n",
    "        print(\"female eligible for marriage\")\n",
    "    else:\n",
    "        print(\"Not female eligible for marriage\")    \n",
    "Eligible(20,67)\n",
    "\n"
   ]
  },
  {
   "cell_type": "code",
   "execution_count": 26,
   "id": "9f92c4b3",
   "metadata": {},
   "outputs": [
    {
     "name": "stdout",
     "output_type": "stream",
     "text": [
      "Subject1 : 93\n",
      "Subject2 : 95\n",
      "Subject3 : 95\n",
      "Subject4 : 92\n",
      "Subject5 : 95\n",
      "470 94.0\n",
      "Distinction\n"
     ]
    }
   ],
   "source": [
    "# calculate the percentage of your 10th mark\n",
    "\n",
    "def percentage():\n",
    "    s1 =int(input(\"Subject1 : \"))\n",
    "    s2 =int(input(\"Subject2 : \"))\n",
    "    s3 =int(input(\"Subject3 : \"))\n",
    "    s4 =int(input(\"Subject4 : \"))\n",
    "    s5 =int(input(\"Subject5 : \"))\n",
    "    Total = s1+s2+s3+s4+s5\n",
    "    Per = Total/5\n",
    "    print(Total,Per)\n",
    "    return Per\n",
    "Percent=percentage()\n",
    "if(Percent>90.0):\n",
    "    print(\"Distinction\")\n",
    "elif(Percent>75.0):\n",
    "    print(\"Normal\")\n",
    "else:\n",
    "    print(\"fail\")"
   ]
  },
  {
   "cell_type": "code",
   "execution_count": 29,
   "id": "e94e4b85",
   "metadata": {},
   "outputs": [
    {
     "name": "stdout",
     "output_type": "stream",
     "text": [
      "Height : 34\n",
      "Breadth :23\n",
      "Area of triangle 391.0\n",
      "Height1 : 54\n",
      "Height2 : 2\n",
      "Breadth1 : 1\n",
      "Perimeter of triangle 57\n"
     ]
    }
   ],
   "source": [
    "#print area and perimeter of triangle using functions\n",
    "def triangle():\n",
    "    Height = int(input(\"Height : \"))\n",
    "    breadth = int(input(\"Breadth :\"))\n",
    "    formula = (Height*breadth)/2\n",
    "    print(\"Area of triangle\",formula)\n",
    "    height1 = int(input(\"Height1 : \"))\n",
    "    height2 = int(input(\"Height2 : \"))\n",
    "    breadth1 = int(input(\"Breadth1 : \"))\n",
    "    Perimeter_formula = height1+height2+breadth1\n",
    "    print(\"Perimeter of triangle\",Perimeter_formula)\n",
    "triangle()\n",
    "    \n",
    "\n",
    "    "
   ]
  },
  {
   "cell_type": "code",
   "execution_count": null,
   "id": "4663ead3",
   "metadata": {},
   "outputs": [],
   "source": []
  }
 ],
 "metadata": {
  "kernelspec": {
   "display_name": "Python 3 (ipykernel)",
   "language": "python",
   "name": "python3"
  },
  "language_info": {
   "codemirror_mode": {
    "name": "ipython",
    "version": 3
   },
   "file_extension": ".py",
   "mimetype": "text/x-python",
   "name": "python",
   "nbconvert_exporter": "python",
   "pygments_lexer": "ipython3",
   "version": "3.11.5"
  }
 },
 "nbformat": 4,
 "nbformat_minor": 5
}
