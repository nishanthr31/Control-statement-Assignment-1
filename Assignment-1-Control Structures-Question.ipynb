{
 "cells": [
  {
   "cell_type": "code",
   "execution_count": 1,
   "id": "c96f959b",
   "metadata": {},
   "outputs": [
    {
     "name": "stdout",
     "output_type": "stream",
     "text": [
      "Welcome to Assignment-1\n"
     ]
    }
   ],
   "source": [
    "#print statement\n",
    "\n",
    "print(\"Welcome to Assignment-1\")"
   ]
  },
  {
   "cell_type": "code",
   "execution_count": 3,
   "id": "a44e00be",
   "metadata": {},
   "outputs": [
    {
     "name": "stdout",
     "output_type": "stream",
     "text": [
      "Num1= 10\n",
      "Num2= 30\n",
      "Add=  40\n"
     ]
    }
   ],
   "source": [
    "#Addition\n",
    "\n",
    "a = int(input(\"Num1= \"))\n",
    "b = int(input(\"Num2= \"))\n",
    "c = a+b\n",
    "print(\"Add= \",c)\n"
   ]
  },
  {
   "cell_type": "code",
   "execution_count": 20,
   "id": "9fc05b70",
   "metadata": {},
   "outputs": [
    {
     "name": "stdout",
     "output_type": "stream",
     "text": [
      "Enter the height in meters : 1.83\n",
      "Enter the weight in kg : 85\n",
      "Body Mass Index is  23.224043715846992\n",
      "Normal\n"
     ]
    }
   ],
   "source": [
    "#Body Mass Index\n",
    "\n",
    "Height = float(input(\"Enter the height in meters : \"))\n",
    "Weight = int(input(\"Enter the weight in kg : \"))\n",
    "BMI = Weight/(Height*2)\n",
    "print(\"Body Mass Index is \", BMI )\n",
    "\n",
    "if(BMI<18.5):\n",
    "    print(\"Underweight\")\n",
    "elif(18.5<=BMI<24.9):\n",
    "    print(\"Normal\")\n",
    "elif(24.9<=BMI<29.9):\n",
    "    print(\"Overweight\")\n",
    "else:\n",
    "    print(\"Very overweight\")\n"
   ]
  },
  {
   "cell_type": "code",
   "execution_count": null,
   "id": "5a6a112f",
   "metadata": {},
   "outputs": [],
   "source": []
  }
 ],
 "metadata": {
  "kernelspec": {
   "display_name": "Python 3 (ipykernel)",
   "language": "python",
   "name": "python3"
  },
  "language_info": {
   "codemirror_mode": {
    "name": "ipython",
    "version": 3
   },
   "file_extension": ".py",
   "mimetype": "text/x-python",
   "name": "python",
   "nbconvert_exporter": "python",
   "pygments_lexer": "ipython3",
   "version": "3.11.5"
  }
 },
 "nbformat": 4,
 "nbformat_minor": 5
}
