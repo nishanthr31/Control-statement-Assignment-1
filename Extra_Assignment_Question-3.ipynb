{
 "cells": [
  {
   "cell_type": "code",
   "execution_count": 1,
   "id": "c153fae0",
   "metadata": {},
   "outputs": [
    {
     "name": "stdout",
     "output_type": "stream",
     "text": [
      "Value: 10\n",
      "correct\n"
     ]
    }
   ],
   "source": [
    "# print 'CORRECT' if i == 10\n",
    "\n",
    "In = int(input(\"Value: \"))\n",
    "if(In == 10):\n",
    "    print(\"correct\")"
   ]
  },
  {
   "cell_type": "code",
   "execution_count": 4,
   "id": "d879fb75",
   "metadata": {},
   "outputs": [
    {
     "name": "stdout",
     "output_type": "stream",
     "text": [
      "Enter the password :HOPE@123\n",
      "correct\n"
     ]
    }
   ],
   "source": [
    "# Check the password, using if and else\n",
    "\n",
    "In = input(\"Enter the password :\")\n",
    "if(In == \"HOPE@123\"):\n",
    "    print(\"correct\")\n",
    "else: \n",
    "    print(\"Not-correct\")"
   ]
  },
  {
   "cell_type": "code",
   "execution_count": 6,
   "id": "aef2b410",
   "metadata": {},
   "outputs": [
    {
     "name": "stdout",
     "output_type": "stream",
     "text": [
      "age :20\n",
      "Adult\n"
     ]
    }
   ],
   "source": [
    "\n",
    "# Catagory the people by their age like children, adult, citizen, senior citizen...\n",
    "\n",
    "Age = int(input(\"age :\"))\n",
    "if(Age<18):\n",
    "    print(\"children\")\n",
    "elif(18<=Age<35):\n",
    "    print(\"Adult\")\n",
    "elif(35<=Age<59):\n",
    "    print(\"Citizen\")\n",
    "else:\n",
    "    print(\"Senior-citizen\")"
   ]
  },
  {
   "cell_type": "code",
   "execution_count": 8,
   "id": "c5695da5",
   "metadata": {},
   "outputs": [
    {
     "name": "stdout",
     "output_type": "stream",
     "text": [
      "Enter any number:-45\n",
      "No. is negative\n"
     ]
    }
   ],
   "source": [
    "# Find whether given number is positive or negative\n",
    "\n",
    "In = int(input(\"Enter any number:\"))\n",
    "if(In > 0):\n",
    "    print(\"No is positive\")\n",
    "elif(In<0):\n",
    "    print(\"No. is negative\")"
   ]
  },
  {
   "cell_type": "code",
   "execution_count": 12,
   "id": "f9eb4d97",
   "metadata": {},
   "outputs": [
    {
     "name": "stdout",
     "output_type": "stream",
     "text": [
      "Enter a number to check:22\n",
      "It is not divisible by 5\n"
     ]
    }
   ],
   "source": [
    "# Check whether the given number is divisible by 5\n",
    "\n",
    "num = int(input(\"Enter a number to check:\"))\n",
    "if(num%5 == 0):\n",
    "    print(\"It is divisible by 5\")\n",
    "else:\n",
    "    print(\"It is not divisible by 5\")"
   ]
  },
  {
   "cell_type": "code",
   "execution_count": null,
   "id": "d6e294c6",
   "metadata": {},
   "outputs": [],
   "source": []
  }
 ],
 "metadata": {
  "kernelspec": {
   "display_name": "Python 3 (ipykernel)",
   "language": "python",
   "name": "python3"
  },
  "language_info": {
   "codemirror_mode": {
    "name": "ipython",
    "version": 3
   },
   "file_extension": ".py",
   "mimetype": "text/x-python",
   "name": "python",
   "nbconvert_exporter": "python",
   "pygments_lexer": "ipython3",
   "version": "3.11.5"
  }
 },
 "nbformat": 4,
 "nbformat_minor": 5
}
